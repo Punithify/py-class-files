{
 "cells": [
  {
   "cell_type": "markdown",
   "metadata": {},
   "source": [
    "Write a program which accepts as input a DOB in the format \"dd/mm/yyyy \"and prints AGE of the person. Validate the input using Exceptional Handling \n",
    "If no input is given, prompt user to enter input \n",
    "If \"?\" is typed help the user by telling him/her to enter Data of Birth in the required format \n",
    "If date is entered validate the correctness of the date and print AGE \n",
    "If \"q\" or \"Q\" is entered invoke a user defined exception which quits the program after printing \"Bye! Hope you run this program again\". "
   ]
  },
  {
   "cell_type": "code",
   "execution_count": 7,
   "metadata": {},
   "outputs": [
    {
     "name": "stdout",
     "output_type": "stream",
     "text": [
      "Entered Date is : 2012-02-12\n",
      "Given date is Vaild Format\n",
      "('Your Age is : ', 11)\n"
     ]
    }
   ],
   "source": [
    "from datetime import datetime,date\n",
    "import re\n",
    "allowed_characters = set(\"0123456789/\")\n",
    "def validateDateFormat(year,month,day):\n",
    "    try:\n",
    "        print(\"Entered Date is :\" ,date(year,month,day))\n",
    "        today = datetime.today()\n",
    "        print(\"Given date is Vaild Format\")\n",
    "        return \"Your Age is : \",today.year - year \n",
    "         \n",
    "    except ValueError:\n",
    "        print(\" pls enter date in the format dd/mm/yy\")\n",
    "\n",
    "values=[i for i in input(\"Enter day, month, year in dd/mm/yyyy format : \")]\n",
    "formatList=[]\n",
    "for i in values:\n",
    "    if i not in allowed_characters:\n",
    "        print(\"Pls enter the name in dd/mm/yyyy format\")\n",
    "    if(re.search(\"^[a-zA-Z ]*$\",i)):\n",
    "        raise Exception('user exception', 'Bye ! Hope to see u again')\n",
    "values=\"\".join(values).split('/')\n",
    "for i in values:\n",
    "    formatList.append(int(i))\n",
    "# print(formatList)\n",
    "\n",
    "print(validateDateFormat(formatList[2],formatList[1],formatList[0]))\n"
   ]
  },
  {
   "cell_type": "markdown",
   "metadata": {},
   "source": [
    "---------------------------------------------------------------------------\n",
    "Exception                                 Traceback (most recent call last)\n",
    "Cell In[4], line 20\n",
    "     18         print(\"Pls enter the name in dd/mm/yyyy format\")\n",
    "     19     if(re.search(\"^[a-zA-Z ]*$\",i)):\n",
    "---> 20         raise Exception('user exception', 'Bye ! Hope to see u again')\n",
    "     21 values=\"\".join(values).split('/')\n",
    "     22 for i in values:\n",
    "\n",
    "Exception: ('user exception', 'Bye ! Hope to see u again')"
   ]
  },
  {
   "cell_type": "markdown",
   "metadata": {},
   "source": []
  }
 ],
 "metadata": {
  "kernelspec": {
   "display_name": "Python 3",
   "language": "python",
   "name": "python3"
  },
  "language_info": {
   "codemirror_mode": {
    "name": "ipython",
    "version": 3
   },
   "file_extension": ".py",
   "mimetype": "text/x-python",
   "name": "python",
   "nbconvert_exporter": "python",
   "pygments_lexer": "ipython3",
   "version": "3.10.12"
  },
  "orig_nbformat": 4
 },
 "nbformat": 4,
 "nbformat_minor": 2
}
