{
 "cells": [
  {
   "cell_type": "markdown",
   "metadata": {},
   "source": [
    "1. Demonstrate use of Python data structures.\n",
    "a. Write a paragraph on your identified domain. Write a python program\n",
    "● to find the frequency of the given word(your domain name) in the paragraph.\n",
    "● to compute the number of characters, words and lines in the paragraph\n",
    "● to arrange the letters of the given word(your domain name) in alphabetical order"
   ]
  },
  {
   "cell_type": "code",
   "execution_count": 1,
   "metadata": {},
   "outputs": [
    {
     "name": "stdout",
     "output_type": "stream",
     "text": [
      "Number of occurence of the word 'CMS' :  2\n",
      "Number of characters in the above description is :  466\n",
      "Number of words in the above description is :  75\n",
      "Number of lines in the above description is :  5\n"
     ]
    }
   ],
   "source": [
    "domianDesc = \"A Content Management System (CMS) is a powerful software application designed to simplify the creation, management, and publication of digital content on websites. It provides users, whether they are individuals or organizations, with a user-friendly interface to effortlessly handle various aspects of content, such as writing, editing, organizing, and scheduling. CMS platforms enable multiple users to collaborate seamlessly, facilitating efficient workflows for content creation and approval processes. With its diverse array of tools and templates.\"\n",
    "\n",
    "print(\"Number of occurence of the word 'CMS' : \", domianDesc.count(\"CMS\"))\n",
    "\n",
    "countChar = 0\n",
    "for i in domianDesc:\n",
    "    if (i == ',' or i == ' ' or i == '.'):\n",
    "        pass\n",
    "    else:\n",
    "        countChar += 1\n",
    "\n",
    "print(\"Number of characters in the above description is : \", countChar) #number of char\n",
    "print(\"Number of words in the above description is : \",\n",
    "      len(domianDesc.split(' ')))  # number of words\n",
    "print(\"Number of lines in the above description is : \",\n",
    "      len(domianDesc.split('.')))  # number of sentences"
   ]
  },
  {
   "cell_type": "markdown",
   "metadata": {},
   "source": [
    "b. Write a python program to encrypt a given string(your domain name) using the\n",
    "following method:\n",
    "Encrypt Method: Add a number ‘n’(given by the user ) to each alphabet in the\n",
    "given string to create the corresponding letter.\n",
    "Example:\n",
    "Input: bat\n",
    "Encrypt Method:value of n = 3\n",
    "Output:edw"
   ]
  },
  {
   "cell_type": "code",
   "execution_count": 3,
   "metadata": {},
   "outputs": [
    {
     "name": "stdout",
     "output_type": "stream",
     "text": [
      "Encrypt Method:value of n =  5\n",
      "Encrypted string is :  htsyjsyerfsfljrjsyexfxyjr\n"
     ]
    }
   ],
   "source": [
    "import string\n",
    "domainName = \"content management system\"\n",
    "n = int(input(\"Enter the add number\"))\n",
    "indexList = []\n",
    "domainName.split(' ')\n",
    "for i in domainName:\n",
    "    if (string.ascii_lowercase.find(i) >= (26-n)):\n",
    "        i = 'a'\n",
    "    indexList.append(string.ascii_lowercase[(\n",
    "        string.ascii_lowercase.find(i))+n])\n",
    "print(\"Encrypt Method:value of n = \", n)\n",
    "print(\"Encrypted string is : \", \"\".join(indexList))"
   ]
  },
  {
   "cell_type": "markdown",
   "metadata": {},
   "source": [
    "2. Functions :\n",
    "Implement a function pay() that takes as input two arguments: an hourly wage and\n",
    "the number of hours an employee worked last week. Your function should compute\n",
    "and return the employee’s pay. Any hours worked beyond 40 is overtime and should\n",
    "be paid 1.5 times the regular hourly wage.\n",
    ">>> pay(10,35)\n",
    "350\n",
    ">>>pay(10,45)\n",
    "475.0"
   ]
  },
  {
   "cell_type": "code",
   "execution_count": 5,
   "metadata": {},
   "outputs": [
    {
     "name": "stdout",
     "output_type": "stream",
     "text": [
      "employee's pay :  36.0\n"
     ]
    }
   ],
   "source": [
    "def pay(hourlyWage, WorkHour):\n",
    "    if WorkHour > 40:\n",
    "        return (hourlyWage*1.5)*WorkHour\n",
    "    return hourlyWage*WorkHour\n",
    "\n",
    "hourlyWage, workHour = [float(s) for s in\n",
    "                        input(\"enter hourly wage and work hour of the employee \").split(' ')]\n",
    "print(\"employee's pay : \", pay(hourlyWage, workHour))"
   ]
  },
  {
   "cell_type": "markdown",
   "metadata": {},
   "source": [
    "3. Tuple :\n",
    "Create a list of tuples that consists of two neumatic and one string\n",
    "For example houses for rent, the number of bedrooms and their prices, like so:\n",
    "[ ('main st.', 4, 4000), ('elm st.', 1, 1200), ('pine st.', 2, 1600)]\n",
    "Sort the list in the following ways:\n",
    "a. In ascending order by first numeric value\n",
    "b. In descending order by second numeric value\n",
    "c. In alphabetical order of string value"
   ]
  },
  {
   "cell_type": "code",
   "execution_count": 6,
   "metadata": {},
   "outputs": [
    {
     "name": "stdout",
     "output_type": "stream",
     "text": [
      "alphabetical order of string value(Street Name) :  ['elm st.', 'main st.', 'pine st.']\n",
      "descending order by first numeric value :  [1, 2, 4]\n",
      "descending order by second numeric value (Rent) : [4000, 1600, 1200]\n"
     ]
    }
   ],
   "source": [
    "houseList = [('main st.', 4, 4000), ('elm st.',\n",
    "                                     1, 1200), ('pine st.', 2, 1600)]\n",
    "streetName = []\n",
    "numVal = []\n",
    "rentList = []\n",
    "for i in houseList:\n",
    "    streetName.append(i[0])\n",
    "    numVal.append(i[1])\n",
    "    rentList.append(i[2])\n",
    "print(\"alphabetical order of string value(Street Name) : \", sorted(streetName))\n",
    "print(\"descending order by first numeric value : \", sorted(numVal))\n",
    "print(\"descending order by second numeric value (Rent) :\",\n",
    "      sorted(rentList, reverse=True))"
   ]
  },
  {
   "cell_type": "markdown",
   "metadata": {},
   "source": [
    "Using itemgetter"
   ]
  },
  {
   "cell_type": "code",
   "execution_count": 7,
   "metadata": {},
   "outputs": [
    {
     "name": "stdout",
     "output_type": "stream",
     "text": [
      "alphabetical order of string value(Street Name) :  [('elm st.', 1, 1200), ('main st.', 4, 4000), ('pine st.', 2, 1600)]\n",
      "descending order by first numeric value :  [('elm st.', 1, 1200), ('pine st.', 2, 1600), ('main st.', 4, 4000)]\n",
      "descending order by second numeric value (Rent) : [('main st.', 4, 4000), ('pine st.', 2, 1600), ('elm st.', 1, 1200)]\n"
     ]
    }
   ],
   "source": [
    "from operator import itemgetter\n",
    "houseList = [('main st.', 4, 4000), ('elm st.',\n",
    "                                     1, 1200), ('pine st.', 2, 1600)]\n",
    "print(\"alphabetical order of string value(Street Name) : \",\n",
    "      sorted(houseList, key=itemgetter(0)))\n",
    "print(\"descending order by first numeric value : \",\n",
    "      sorted(houseList, key=itemgetter(1)))\n",
    "print(\"descending order by second numeric value (Rent) :\",\n",
    "      sorted(houseList, key=itemgetter(2), reverse=True))"
   ]
  }
 ],
 "metadata": {
  "kernelspec": {
   "display_name": "Python 3",
   "language": "python",
   "name": "python3"
  },
  "language_info": {
   "codemirror_mode": {
    "name": "ipython",
    "version": 3
   },
   "file_extension": ".py",
   "mimetype": "text/x-python",
   "name": "python",
   "nbconvert_exporter": "python",
   "pygments_lexer": "ipython3",
   "version": "3.10.6"
  },
  "orig_nbformat": 4
 },
 "nbformat": 4,
 "nbformat_minor": 2
}
