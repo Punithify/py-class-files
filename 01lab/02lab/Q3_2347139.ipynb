{
 "cells": [
  {
   "cell_type": "markdown",
   "metadata": {},
   "source": [
    "P3:Demonstrate Custom modules with functions \n",
    "1. You like using QR code for your firm/domain, you have QR code on your product. Now you would like to generate code for your products in python using QR code. \n",
    "(a). Write a function \"EncodeQR\" which takes the name of the product(in a string) at most \n",
    "5 characters with a minimum of one letter and returns back a list containing the encoded QR code. Use lambda functions wherever you find it appropriate. \n",
    "(b) Put the above function in a module and use another script to import the module and call the function in the script"
   ]
  },
  {
   "cell_type": "code",
   "execution_count": 1,
   "metadata": {},
   "outputs": [
    {
     "name": "stdout",
     "output_type": "stream",
     "text": [
      "Domain Name : CMS\n",
      "Encoded String is :  1000011100000001001101010000001010011001000000\n"
     ]
    }
   ],
   "source": [
    "from mod import encodeQR\n",
    "res=encodeQR(\"CMS\")\n",
    "print(\"Domain Name : CMS\")\n",
    "print(\"Encoded String is : \",''.join(res))"
   ]
  },
  {
   "cell_type": "markdown",
   "metadata": {},
   "source": [
    "P4:Demonstrate use of object-oriented programming concepts \n",
    "You are crazy about your selected domain. Today is The Day you can write a python program on YOUR DOMAIN!!! \n",
    "Create a class called \"Your Domain Name\" which has five attributes(2 string, 3 number). Initialize the variables in the \"__init_” method and write at least three more methods. With respect to your domain, you can create methods for getting Input, update the values, verify the condition, and etc,. "
   ]
  },
  {
   "cell_type": "code",
   "execution_count": 2,
   "metadata": {},
   "outputs": [
    {
     "name": "stdout",
     "output_type": "stream",
     "text": [
      "----------------------------------------\n",
      "Post Title :  first post in the cms \n",
      "File Name :  untitiled.png\n",
      "File size :  2\n",
      "Your file has been uploaded to cloudinary\n"
     ]
    }
   ],
   "source": [
    "class CmsMedia:\n",
    "    allowedFileType=\"png\"\n",
    "    def __init__(self,conType,postCount):\n",
    "        self.contentType=conType\n",
    "        # self.fileName=fileName\n",
    "        self.postCount=postCount\n",
    "        \n",
    "    def getMediadetails(self):\n",
    "        print('-'*40)\n",
    "        self.postTitle=input(\"enter your post title \")\n",
    "        self.fileName=input(\"enter your filename \")\n",
    "        print(\"Post Title : \",self.postTitle,\"\\nFile Name : \",self.fileName)\n",
    "    def fileCheck(self):\n",
    "        fileext=self.fileName.split('.')\n",
    "        if(fileext[1]==self.allowedFileType):\n",
    "            print(\"file format is acceptable\")\n",
    "\n",
    "class ImageProvider(CmsMedia):\n",
    "    imageProvider=\"cloudinary\"\n",
    "    AllowedFileSize=\"2\" #2mb\n",
    "    def __init__(self,apiKey):\n",
    "        self.apiKey=apiKey\n",
    "    def fileCheck(self,fileSize,fileType):\n",
    "        super().getMediadetails()\n",
    "        print(\"File size : \",fileSize)\n",
    "        fileext=fileType.split('.')\n",
    "        if(fileext[1]==super().allowedFileType and fileSize<=self.AllowedFileSize):\n",
    "            print(\"Your file has been uploaded to cloudinary\")\n",
    "\n",
    "media=CmsMedia(\"image\",2)\n",
    "obj=ImageProvider(\"asaksas9askskdksd\")\n",
    "obj.fileCheck(\"2\",\"untitled.png\")\n"
   ]
  }
 ],
 "metadata": {
  "kernelspec": {
   "display_name": "Python 3",
   "language": "python",
   "name": "python3"
  },
  "language_info": {
   "codemirror_mode": {
    "name": "ipython",
    "version": 3
   },
   "file_extension": ".py",
   "mimetype": "text/x-python",
   "name": "python",
   "nbconvert_exporter": "python",
   "pygments_lexer": "ipython3",
   "version": "3.10.12"
  },
  "orig_nbformat": 4
 },
 "nbformat": 4,
 "nbformat_minor": 2
}
