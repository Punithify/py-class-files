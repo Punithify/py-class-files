{
 "cells": [
  {
   "cell_type": "markdown",
   "metadata": {},
   "source": [
    "Imagine you are creating a form(Admission form/Registration Form, Booking Form, etc.,.) relevant to your domain. Create a function using the ‘re’ module to verify the following. 1. The input string is correct or not (name and dot) \n",
    "2. Input has only digit(Register number, phone number) \n",
    "3. Verify the email ID \n",
    "4. Verify date of birth \n",
    "5. Payment option \n",
    "6. All the above ive entries received the correct Input "
   ]
  },
  {
   "cell_type": "code",
   "execution_count": 3,
   "metadata": {},
   "outputs": [
    {
     "name": "stdout",
     "output_type": "stream",
     "text": [
      "CMS Signup\n",
      "----------------------------------------\n",
      "[<re.Match object; span=(0, 1), match='b'>, <re.Match object; span=(0, 10), match='7899617898'>, None, <re.Match object; span=(0, 7), match='12/2/23'>]\n",
      "SignUp Failed\n"
     ]
    }
   ],
   "source": [
    "import re\n",
    "\n",
    "print(\"CMS Signup\")\n",
    "print(\"-\"*40)\n",
    "ltCheck = []\n",
    "\n",
    "\n",
    "def validateInput():\n",
    "    name = input(\"Enter your name : \")\n",
    "    ltCheck.append(re.search('^[A-za-z]', name))\n",
    "    # print(m)\n",
    "    # print(m.group(0))\n",
    "\n",
    "    # # digits\n",
    "    phoneNum = input(\"Enter your phone number : \")\n",
    "    ltCheck.append(re.search('(\\d{10})', phoneNum))\n",
    "\n",
    "    # email\n",
    "    email = input(\"Enter your email : \")\n",
    "    pattern = r\"^[a-z]+[-_$.a-z]*@[a-z]*\\.[a-z]+$\"\n",
    "    ltCheck.append(re.search(pattern, email))\n",
    "\n",
    "    # date\n",
    "    date = input(\"Enter DOB in dd/mm/yy : \")\n",
    "    ltCheck.append(re.search(r'(\\d+/\\d+/\\d+)', date))\n",
    "\n",
    "\n",
    "validateInput()\n",
    "print(ltCheck)\n",
    "if None in ltCheck:\n",
    "    print(\"SignUp Failed\")\n",
    "else:\n",
    "    for i in ltCheck:\n",
    "        print(i.group(0))\n"
   ]
  },
  {
   "cell_type": "markdown",
   "metadata": {},
   "source": [
    "CMS Signup\n",
    "----------------------------------------\n",
    "[<re.Match object; span=(0, 1), match='b'>, <re.Match object; span=(0, 10), match='7899617898'>, <re.Match object; span=(0, 13), match='bob@gmail.com'>, <re.Match object; span=(0, 7), match='12/2/23'>]\n",
    "b\n",
    "7899617898\n",
    "bob@gmail.com\n",
    "12/2/23"
   ]
  }
 ],
 "metadata": {
  "kernelspec": {
   "display_name": "Python 3",
   "language": "python",
   "name": "python3"
  },
  "language_info": {
   "codemirror_mode": {
    "name": "ipython",
    "version": 3
   },
   "file_extension": ".py",
   "mimetype": "text/x-python",
   "name": "python",
   "nbconvert_exporter": "python",
   "pygments_lexer": "ipython3",
   "version": "3.10.12"
  },
  "orig_nbformat": 4
 },
 "nbformat": 4,
 "nbformat_minor": 2
}
